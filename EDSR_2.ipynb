{
  "nbformat": 4,
  "nbformat_minor": 0,
  "metadata": {
    "colab": {
      "provenance": [],
      "gpuType": "T4"
    },
    "kernelspec": {
      "name": "python3",
      "display_name": "Python 3"
    },
    "language_info": {
      "name": "python"
    },
    "accelerator": "GPU"
  },
  "cells": [
    {
      "cell_type": "code",
      "source": [
        "import numpy as np\n",
        "import tensorflow as tf\n",
        "from tensorflow import keras\n",
        "from sklearn.model_selection import train_test_split\n",
        "from sklearn.preprocessing import StandardScaler"
      ],
      "metadata": {
        "id": "fLgUdXqB2boN"
      },
      "execution_count": 1,
      "outputs": []
    },
    {
      "cell_type": "code",
      "source": [
        "from google.colab import drive\n",
        "drive.mount('/content/drive')"
      ],
      "metadata": {
        "colab": {
          "base_uri": "https://localhost:8080/"
        },
        "id": "E6aFbQ-e2q5U",
        "outputId": "efa5fb7e-af83-49d8-d9ae-a8f79bcb6b3c"
      },
      "execution_count": 2,
      "outputs": [
        {
          "output_type": "stream",
          "name": "stdout",
          "text": [
            "Mounted at /content/drive\n"
          ]
        }
      ]
    },
    {
      "cell_type": "code",
      "source": [
        "file_path_1 = \"/content/drive/My Drive/IMDDataSample1deg_1981_2021.npy\"\n",
        "file_path_2 = \"/content/drive/My Drive/BiasDataSample1deg_1981_2021.npy\"\n",
        "data_1 = np.load(file_path_1)\n",
        "data_2 = np.load(file_path_2)"
      ],
      "metadata": {
        "id": "4jTZw5Fc272F"
      },
      "execution_count": 3,
      "outputs": []
    },
    {
      "cell_type": "code",
      "source": [
        "data_1.shape"
      ],
      "metadata": {
        "colab": {
          "base_uri": "https://localhost:8080/"
        },
        "id": "KZzZcIXE3I2V",
        "outputId": "7a4bf41c-1a03-4659-ad43-ad5727111628"
      },
      "execution_count": 4,
      "outputs": [
        {
          "output_type": "execute_result",
          "data": {
            "text/plain": [
              "(2132, 36, 36)"
            ]
          },
          "metadata": {},
          "execution_count": 4
        }
      ]
    },
    {
      "cell_type": "code",
      "source": [
        "data_2.shape"
      ],
      "metadata": {
        "colab": {
          "base_uri": "https://localhost:8080/"
        },
        "id": "0joJF7U83LGU",
        "outputId": "2bf0d1bc-f6f6-4064-9dac-5974077edb53"
      },
      "execution_count": 5,
      "outputs": [
        {
          "output_type": "execute_result",
          "data": {
            "text/plain": [
              "(2132, 36, 36)"
            ]
          },
          "metadata": {},
          "execution_count": 5
        }
      ]
    },
    {
      "cell_type": "code",
      "source": [
        "data_1"
      ],
      "metadata": {
        "colab": {
          "base_uri": "https://localhost:8080/"
        },
        "id": "SuPmd1nB3ORV",
        "outputId": "4867dd84-3600-49ff-b0ae-43642bacaceb"
      },
      "execution_count": 6,
      "outputs": [
        {
          "output_type": "execute_result",
          "data": {
            "text/plain": [
              "array([[[0., 0., 0., ..., 0., 0., 0.],\n",
              "        [0., 0., 0., ..., 0., 0., 0.],\n",
              "        [0., 0., 0., ..., 0., 0., 0.],\n",
              "        ...,\n",
              "        [0., 0., 0., ..., 0., 0., 0.],\n",
              "        [0., 0., 0., ..., 0., 0., 0.],\n",
              "        [0., 0., 0., ..., 0., 0., 0.]],\n",
              "\n",
              "       [[0., 0., 0., ..., 0., 0., 0.],\n",
              "        [0., 0., 0., ..., 0., 0., 0.],\n",
              "        [0., 0., 0., ..., 0., 0., 0.],\n",
              "        ...,\n",
              "        [0., 0., 0., ..., 0., 0., 0.],\n",
              "        [0., 0., 0., ..., 0., 0., 0.],\n",
              "        [0., 0., 0., ..., 0., 0., 0.]],\n",
              "\n",
              "       [[0., 0., 0., ..., 0., 0., 0.],\n",
              "        [0., 0., 0., ..., 0., 0., 0.],\n",
              "        [0., 0., 0., ..., 0., 0., 0.],\n",
              "        ...,\n",
              "        [0., 0., 0., ..., 0., 0., 0.],\n",
              "        [0., 0., 0., ..., 0., 0., 0.],\n",
              "        [0., 0., 0., ..., 0., 0., 0.]],\n",
              "\n",
              "       ...,\n",
              "\n",
              "       [[0., 0., 0., ..., 0., 0., 0.],\n",
              "        [0., 0., 0., ..., 0., 0., 0.],\n",
              "        [0., 0., 0., ..., 0., 0., 0.],\n",
              "        ...,\n",
              "        [0., 0., 0., ..., 0., 0., 0.],\n",
              "        [0., 0., 0., ..., 0., 0., 0.],\n",
              "        [0., 0., 0., ..., 0., 0., 0.]],\n",
              "\n",
              "       [[0., 0., 0., ..., 0., 0., 0.],\n",
              "        [0., 0., 0., ..., 0., 0., 0.],\n",
              "        [0., 0., 0., ..., 0., 0., 0.],\n",
              "        ...,\n",
              "        [0., 0., 0., ..., 0., 0., 0.],\n",
              "        [0., 0., 0., ..., 0., 0., 0.],\n",
              "        [0., 0., 0., ..., 0., 0., 0.]],\n",
              "\n",
              "       [[0., 0., 0., ..., 0., 0., 0.],\n",
              "        [0., 0., 0., ..., 0., 0., 0.],\n",
              "        [0., 0., 0., ..., 0., 0., 0.],\n",
              "        ...,\n",
              "        [0., 0., 0., ..., 0., 0., 0.],\n",
              "        [0., 0., 0., ..., 0., 0., 0.],\n",
              "        [0., 0., 0., ..., 0., 0., 0.]]], dtype=float32)"
            ]
          },
          "metadata": {},
          "execution_count": 6
        }
      ]
    },
    {
      "cell_type": "code",
      "source": [
        "data_2"
      ],
      "metadata": {
        "colab": {
          "base_uri": "https://localhost:8080/"
        },
        "id": "6O10WE5i3Sx8",
        "outputId": "5f9b44c4-fc2c-437c-8075-d7acd9863a7b"
      },
      "execution_count": 7,
      "outputs": [
        {
          "output_type": "execute_result",
          "data": {
            "text/plain": [
              "array([[[0., 0., 0., ..., 0., 0., 0.],\n",
              "        [0., 0., 0., ..., 0., 0., 0.],\n",
              "        [0., 0., 0., ..., 0., 0., 0.],\n",
              "        ...,\n",
              "        [0., 0., 0., ..., 0., 0., 0.],\n",
              "        [0., 0., 0., ..., 0., 0., 0.],\n",
              "        [0., 0., 0., ..., 0., 0., 0.]],\n",
              "\n",
              "       [[0., 0., 0., ..., 0., 0., 0.],\n",
              "        [0., 0., 0., ..., 0., 0., 0.],\n",
              "        [0., 0., 0., ..., 0., 0., 0.],\n",
              "        ...,\n",
              "        [0., 0., 0., ..., 0., 0., 0.],\n",
              "        [0., 0., 0., ..., 0., 0., 0.],\n",
              "        [0., 0., 0., ..., 0., 0., 0.]],\n",
              "\n",
              "       [[0., 0., 0., ..., 0., 0., 0.],\n",
              "        [0., 0., 0., ..., 0., 0., 0.],\n",
              "        [0., 0., 0., ..., 0., 0., 0.],\n",
              "        ...,\n",
              "        [0., 0., 0., ..., 0., 0., 0.],\n",
              "        [0., 0., 0., ..., 0., 0., 0.],\n",
              "        [0., 0., 0., ..., 0., 0., 0.]],\n",
              "\n",
              "       ...,\n",
              "\n",
              "       [[0., 0., 0., ..., 0., 0., 0.],\n",
              "        [0., 0., 0., ..., 0., 0., 0.],\n",
              "        [0., 0., 0., ..., 0., 0., 0.],\n",
              "        ...,\n",
              "        [0., 0., 0., ..., 0., 0., 0.],\n",
              "        [0., 0., 0., ..., 0., 0., 0.],\n",
              "        [0., 0., 0., ..., 0., 0., 0.]],\n",
              "\n",
              "       [[0., 0., 0., ..., 0., 0., 0.],\n",
              "        [0., 0., 0., ..., 0., 0., 0.],\n",
              "        [0., 0., 0., ..., 0., 0., 0.],\n",
              "        ...,\n",
              "        [0., 0., 0., ..., 0., 0., 0.],\n",
              "        [0., 0., 0., ..., 0., 0., 0.],\n",
              "        [0., 0., 0., ..., 0., 0., 0.]],\n",
              "\n",
              "       [[0., 0., 0., ..., 0., 0., 0.],\n",
              "        [0., 0., 0., ..., 0., 0., 0.],\n",
              "        [0., 0., 0., ..., 0., 0., 0.],\n",
              "        ...,\n",
              "        [0., 0., 0., ..., 0., 0., 0.],\n",
              "        [0., 0., 0., ..., 0., 0., 0.],\n",
              "        [0., 0., 0., ..., 0., 0., 0.]]], dtype=float32)"
            ]
          },
          "metadata": {},
          "execution_count": 7
        }
      ]
    },
    {
      "cell_type": "code",
      "source": [
        "observational_data = data_1[:1716, :, :]\n",
        "GCM_data=data_2[:1716,:,:]"
      ],
      "metadata": {
        "id": "zcGdbq5z3VXF"
      },
      "execution_count": 8,
      "outputs": []
    },
    {
      "cell_type": "code",
      "source": [
        "GCM_data = GCM_data.reshape(-1, 36, 36, 1)\n",
        "observational_data = observational_data.reshape(-1, 36, 36, 1)"
      ],
      "metadata": {
        "id": "BoFi20AY3acc"
      },
      "execution_count": 9,
      "outputs": []
    },
    {
      "cell_type": "code",
      "source": [
        "scaler = StandardScaler()\n",
        "GCM_data = scaler.fit_transform(GCM_data.reshape(-1, 1)).reshape(GCM_data.shape)\n",
        "observational_data = scaler.transform(observational_data.reshape(-1, 1)).reshape(observational_data.shape)"
      ],
      "metadata": {
        "id": "PWbUc3sP2hyM"
      },
      "execution_count": 10,
      "outputs": []
    },
    {
      "cell_type": "code",
      "source": [
        "X_train, X_temp, y_train, y_temp = train_test_split(GCM_data, observational_data, test_size=0.3, random_state=42)\n",
        "X_val, X_test, y_val, y_test = train_test_split(X_temp, y_temp, test_size=0.5, random_state=42)"
      ],
      "metadata": {
        "id": "gYhFngvW3w7T"
      },
      "execution_count": 11,
      "outputs": []
    },
    {
      "cell_type": "code",
      "source": [
        "model = keras.Sequential()\n",
        "model.add(keras.layers.Conv2D(64, (3, 3), activation='relu', padding='same', input_shape=(36, 36, 1)))\n",
        "model.add(keras.layers.Conv2D(64, (3, 3), activation='relu', padding='same'))\n",
        "model.add(keras.layers.Conv2D(64, (3, 3), activation='relu', padding='same'))\n",
        "model.add(keras.layers.Conv2D(64, (3, 3), activation='relu', padding='same'))\n",
        "model.add(keras.layers.Conv2D(64, (3, 3), activation='relu', padding='same'))\n",
        "model.add(keras.layers.Conv2D(64, (3, 3), activation='relu', padding='same'))\n",
        "model.add(keras.layers.Conv2D(64, (3, 3), activation='relu', padding='same'))\n",
        "model.add(keras.layers.Conv2D(64, (3, 3), activation='relu', padding='same'))\n",
        "model.add(keras.layers.Conv2D(64, (3, 3), activation='relu', padding='same'))\n",
        "model.add(keras.layers.Conv2D(64, (3, 3), activation='relu', padding='same'))\n",
        "model.add(keras.layers.Conv2D(64, (3, 3), activation='relu', padding='same'))\n",
        "model.add(keras.layers.Conv2D(64, (3, 3), activation='relu', padding='same'))\n",
        "model.add(keras.layers.Conv2D(1, (3, 3), activation='linear', padding='same'))"
      ],
      "metadata": {
        "id": "snIy2wBG47Su"
      },
      "execution_count": 12,
      "outputs": []
    },
    {
      "cell_type": "code",
      "source": [
        "model.compile(optimizer='adam', loss='mean_squared_error', metrics=['mean_absolute_error'])\n",
        "early_stopping = keras.callbacks.EarlyStopping(monitor='val_loss', patience=10)\n",
        "model_checkpoint = keras.callbacks.ModelCheckpoint('bias_correction_model.h5', save_best_only=True)"
      ],
      "metadata": {
        "id": "jQRmL0h_5BRU"
      },
      "execution_count": 13,
      "outputs": []
    },
    {
      "cell_type": "code",
      "source": [
        "history = model.fit(X_train, y_train, validation_data=(X_val, y_val),\n",
        "                    epochs=50, batch_size=32, callbacks=[early_stopping, model_checkpoint])"
      ],
      "metadata": {
        "colab": {
          "base_uri": "https://localhost:8080/"
        },
        "id": "tWhKMzw55Lwl",
        "outputId": "5d238c28-4fe8-4fe5-abf6-fe56eb28e08c"
      },
      "execution_count": 14,
      "outputs": [
        {
          "output_type": "stream",
          "name": "stdout",
          "text": [
            "Epoch 1/50\n",
            "38/38 [==============================] - 16s 46ms/step - loss: 1.5561 - mean_absolute_error: 0.8439 - val_loss: 0.7156 - val_mean_absolute_error: 0.6215\n",
            "Epoch 2/50\n",
            "38/38 [==============================] - 1s 34ms/step - loss: 0.5154 - mean_absolute_error: 0.4136 - val_loss: 0.3334 - val_mean_absolute_error: 0.3002\n",
            "Epoch 3/50\n",
            "38/38 [==============================] - 1s 36ms/step - loss: 0.2863 - mean_absolute_error: 0.2665 - val_loss: 0.2391 - val_mean_absolute_error: 0.2232\n",
            "Epoch 4/50\n",
            "38/38 [==============================] - 1s 37ms/step - loss: 0.1857 - mean_absolute_error: 0.2080 - val_loss: 0.1317 - val_mean_absolute_error: 0.1777\n",
            "Epoch 5/50\n",
            "38/38 [==============================] - 1s 36ms/step - loss: 0.1249 - mean_absolute_error: 0.1781 - val_loss: 0.0901 - val_mean_absolute_error: 0.1551\n",
            "Epoch 6/50\n",
            "38/38 [==============================] - 1s 35ms/step - loss: 0.0871 - mean_absolute_error: 0.1503 - val_loss: 0.0820 - val_mean_absolute_error: 0.1476\n",
            "Epoch 7/50\n",
            "38/38 [==============================] - 1s 31ms/step - loss: 0.0872 - mean_absolute_error: 0.1528 - val_loss: 0.1405 - val_mean_absolute_error: 0.1883\n",
            "Epoch 8/50\n",
            "38/38 [==============================] - 1s 33ms/step - loss: 0.0789 - mean_absolute_error: 0.1372 - val_loss: 0.0680 - val_mean_absolute_error: 0.1249\n",
            "Epoch 9/50\n",
            "38/38 [==============================] - 1s 33ms/step - loss: 0.0803 - mean_absolute_error: 0.1349 - val_loss: 0.1230 - val_mean_absolute_error: 0.1681\n",
            "Epoch 10/50\n",
            "38/38 [==============================] - 1s 34ms/step - loss: 0.0770 - mean_absolute_error: 0.1358 - val_loss: 0.0613 - val_mean_absolute_error: 0.1157\n",
            "Epoch 11/50\n",
            "38/38 [==============================] - 1s 33ms/step - loss: 0.0626 - mean_absolute_error: 0.1165 - val_loss: 0.0593 - val_mean_absolute_error: 0.1130\n",
            "Epoch 12/50\n",
            "38/38 [==============================] - 1s 35ms/step - loss: 0.0611 - mean_absolute_error: 0.1133 - val_loss: 0.0571 - val_mean_absolute_error: 0.1078\n",
            "Epoch 13/50\n",
            "38/38 [==============================] - 1s 32ms/step - loss: 0.0593 - mean_absolute_error: 0.1103 - val_loss: 0.0578 - val_mean_absolute_error: 0.1079\n",
            "Epoch 14/50\n",
            "38/38 [==============================] - 1s 32ms/step - loss: 0.0606 - mean_absolute_error: 0.1112 - val_loss: 0.0582 - val_mean_absolute_error: 0.1083\n",
            "Epoch 15/50\n",
            "38/38 [==============================] - 1s 35ms/step - loss: 0.0596 - mean_absolute_error: 0.1110 - val_loss: 0.0585 - val_mean_absolute_error: 0.1077\n",
            "Epoch 16/50\n",
            "38/38 [==============================] - 1s 33ms/step - loss: 0.0606 - mean_absolute_error: 0.1099 - val_loss: 0.0686 - val_mean_absolute_error: 0.1100\n",
            "Epoch 17/50\n",
            "38/38 [==============================] - 1s 31ms/step - loss: 0.0603 - mean_absolute_error: 0.1090 - val_loss: 0.0578 - val_mean_absolute_error: 0.1077\n",
            "Epoch 18/50\n",
            "38/38 [==============================] - 1s 33ms/step - loss: 0.0576 - mean_absolute_error: 0.1053 - val_loss: 0.0658 - val_mean_absolute_error: 0.1130\n",
            "Epoch 19/50\n",
            "38/38 [==============================] - 1s 35ms/step - loss: 0.0580 - mean_absolute_error: 0.1058 - val_loss: 0.0543 - val_mean_absolute_error: 0.1037\n",
            "Epoch 20/50\n",
            "38/38 [==============================] - 1s 31ms/step - loss: 0.0567 - mean_absolute_error: 0.1053 - val_loss: 0.0547 - val_mean_absolute_error: 0.1054\n",
            "Epoch 21/50\n",
            "38/38 [==============================] - 1s 31ms/step - loss: 0.0560 - mean_absolute_error: 0.1033 - val_loss: 0.0570 - val_mean_absolute_error: 0.1043\n",
            "Epoch 22/50\n",
            "38/38 [==============================] - 1s 31ms/step - loss: 0.0597 - mean_absolute_error: 0.1069 - val_loss: 0.0543 - val_mean_absolute_error: 0.0983\n",
            "Epoch 23/50\n",
            "38/38 [==============================] - 1s 31ms/step - loss: 0.0585 - mean_absolute_error: 0.1050 - val_loss: 0.0587 - val_mean_absolute_error: 0.1092\n",
            "Epoch 24/50\n",
            "38/38 [==============================] - 1s 34ms/step - loss: 0.0580 - mean_absolute_error: 0.1056 - val_loss: 0.0735 - val_mean_absolute_error: 0.1120\n",
            "Epoch 25/50\n",
            "38/38 [==============================] - 1s 35ms/step - loss: 0.0605 - mean_absolute_error: 0.1063 - val_loss: 0.0616 - val_mean_absolute_error: 0.1085\n",
            "Epoch 26/50\n",
            "38/38 [==============================] - 1s 35ms/step - loss: 0.0567 - mean_absolute_error: 0.1036 - val_loss: 0.0579 - val_mean_absolute_error: 0.1041\n",
            "Epoch 27/50\n",
            "38/38 [==============================] - 1s 31ms/step - loss: 0.0650 - mean_absolute_error: 0.1178 - val_loss: 0.0646 - val_mean_absolute_error: 0.1286\n",
            "Epoch 28/50\n",
            "38/38 [==============================] - 1s 31ms/step - loss: 0.0617 - mean_absolute_error: 0.1183 - val_loss: 0.0561 - val_mean_absolute_error: 0.1062\n",
            "Epoch 29/50\n",
            "38/38 [==============================] - 1s 31ms/step - loss: 0.0571 - mean_absolute_error: 0.1069 - val_loss: 0.0575 - val_mean_absolute_error: 0.1002\n"
          ]
        }
      ]
    },
    {
      "cell_type": "code",
      "source": [
        "best_model = keras.models.load_model('bias_correction_model.h5')"
      ],
      "metadata": {
        "id": "uAZLfLPX9dqJ"
      },
      "execution_count": 15,
      "outputs": []
    },
    {
      "cell_type": "code",
      "source": [
        "test_loss, test_mae = best_model.evaluate(X_test, y_test)"
      ],
      "metadata": {
        "colab": {
          "base_uri": "https://localhost:8080/"
        },
        "id": "zMShn81I9guI",
        "outputId": "c01cdaba-f44e-4d10-cbcd-6a1cd724cc93"
      },
      "execution_count": 16,
      "outputs": [
        {
          "output_type": "stream",
          "name": "stdout",
          "text": [
            "9/9 [==============================] - 0s 28ms/step - loss: 0.0573 - mean_absolute_error: 0.1061\n"
          ]
        }
      ]
    },
    {
      "cell_type": "code",
      "source": [
        "bias_corrected_data = best_model.predict(GCM_data)"
      ],
      "metadata": {
        "colab": {
          "base_uri": "https://localhost:8080/"
        },
        "id": "Ppp3KUap9pOx",
        "outputId": "7efdd411-7587-4f81-81d7-aa3aa53d6b08"
      },
      "execution_count": 17,
      "outputs": [
        {
          "output_type": "stream",
          "name": "stdout",
          "text": [
            "54/54 [==============================] - 1s 13ms/step\n"
          ]
        }
      ]
    },
    {
      "cell_type": "code",
      "source": [
        "bias_corrected_data = bias_corrected_data.reshape(-1, 36, 36)"
      ],
      "metadata": {
        "id": "ymwGRsvP9usD"
      },
      "execution_count": 18,
      "outputs": []
    },
    {
      "cell_type": "code",
      "execution_count": 21,
      "metadata": {
        "id": "5z0UmzZe2TJ7"
      },
      "outputs": [],
      "source": [
        "GCM_data_real=GCM_data.reshape(-1,36,36)"
      ]
    },
    {
      "cell_type": "code",
      "source": [
        "differences=bias_corrected_data-GCM_data_real"
      ],
      "metadata": {
        "id": "mwiO_ebo953B"
      },
      "execution_count": 22,
      "outputs": []
    },
    {
      "cell_type": "code",
      "source": [
        "mean_differences=np.mean(differences,axis=(1,2))\n",
        "global_mean_difference=np.mean(differences)\n",
        "print(global_mean_difference)"
      ],
      "metadata": {
        "colab": {
          "base_uri": "https://localhost:8080/"
        },
        "id": "Rzl-HgBw-XMc",
        "outputId": "4e460742-ff85-4d8d-8b02-e306f3ec1c4a"
      },
      "execution_count": 23,
      "outputs": [
        {
          "output_type": "stream",
          "name": "stdout",
          "text": [
            "0.2532188\n"
          ]
        }
      ]
    },
    {
      "cell_type": "code",
      "source": [],
      "metadata": {
        "id": "zv2Pp9_w-cQB"
      },
      "execution_count": null,
      "outputs": []
    }
  ]
}