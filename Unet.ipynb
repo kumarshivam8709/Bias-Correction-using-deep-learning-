{
  "nbformat": 4,
  "nbformat_minor": 0,
  "metadata": {
    "colab": {
      "provenance": [],
      "gpuType": "T4"
    },
    "kernelspec": {
      "name": "python3",
      "display_name": "Python 3"
    },
    "language_info": {
      "name": "python"
    },
    "accelerator": "GPU"
  },
  "cells": [
    {
      "cell_type": "code",
      "execution_count": 1,
      "metadata": {
        "id": "eBK0eqXShMNe"
      },
      "outputs": [],
      "source": [
        "import numpy as np\n",
        "import tensorflow as tf\n",
        "from tensorflow import keras\n",
        "from sklearn.model_selection import train_test_split\n",
        "from sklearn.preprocessing import StandardScaler\n",
        "from keras.layers import Conv2D\n",
        "from keras.layers import Add\n",
        "from keras.models import Model"
      ]
    },
    {
      "cell_type": "code",
      "source": [
        "from google.colab import drive\n",
        "drive.mount('/content/drive')"
      ],
      "metadata": {
        "colab": {
          "base_uri": "https://localhost:8080/"
        },
        "id": "AOBd2srjhNeG",
        "outputId": "a2acd3f4-741c-4f62-b37c-98275f63fe7e"
      },
      "execution_count": 2,
      "outputs": [
        {
          "output_type": "stream",
          "name": "stdout",
          "text": [
            "Mounted at /content/drive\n"
          ]
        }
      ]
    },
    {
      "cell_type": "code",
      "source": [
        "file_path_1 = \"/content/drive/My Drive/IMDDataSample1deg_1981_2021.npy\"\n",
        "file_path_2 = \"/content/drive/My Drive/BiasDataSample1deg_1981_2021.npy\"\n",
        "data_1 = np.load(file_path_1)\n",
        "data_2 = np.load(file_path_2)"
      ],
      "metadata": {
        "id": "BUxd2dKghZ_B"
      },
      "execution_count": 3,
      "outputs": []
    },
    {
      "cell_type": "code",
      "source": [
        "data_1.shape"
      ],
      "metadata": {
        "colab": {
          "base_uri": "https://localhost:8080/"
        },
        "id": "mEVLCiYshe6b",
        "outputId": "ddd93bf5-c1b3-42ca-b122-25f8e538c2ac"
      },
      "execution_count": 4,
      "outputs": [
        {
          "output_type": "execute_result",
          "data": {
            "text/plain": [
              "(2132, 36, 36)"
            ]
          },
          "metadata": {},
          "execution_count": 4
        }
      ]
    },
    {
      "cell_type": "code",
      "source": [
        "data_2.shape"
      ],
      "metadata": {
        "colab": {
          "base_uri": "https://localhost:8080/"
        },
        "id": "LToNkd46hgyh",
        "outputId": "1f0f4e17-8a68-4c6b-de2c-441411290cac"
      },
      "execution_count": 5,
      "outputs": [
        {
          "output_type": "execute_result",
          "data": {
            "text/plain": [
              "(2132, 36, 36)"
            ]
          },
          "metadata": {},
          "execution_count": 5
        }
      ]
    },
    {
      "cell_type": "code",
      "source": [
        "data_1"
      ],
      "metadata": {
        "colab": {
          "base_uri": "https://localhost:8080/"
        },
        "id": "BmRbYidBhipk",
        "outputId": "472af02e-5003-41ce-a050-825af8df3448"
      },
      "execution_count": 6,
      "outputs": [
        {
          "output_type": "execute_result",
          "data": {
            "text/plain": [
              "array([[[0., 0., 0., ..., 0., 0., 0.],\n",
              "        [0., 0., 0., ..., 0., 0., 0.],\n",
              "        [0., 0., 0., ..., 0., 0., 0.],\n",
              "        ...,\n",
              "        [0., 0., 0., ..., 0., 0., 0.],\n",
              "        [0., 0., 0., ..., 0., 0., 0.],\n",
              "        [0., 0., 0., ..., 0., 0., 0.]],\n",
              "\n",
              "       [[0., 0., 0., ..., 0., 0., 0.],\n",
              "        [0., 0., 0., ..., 0., 0., 0.],\n",
              "        [0., 0., 0., ..., 0., 0., 0.],\n",
              "        ...,\n",
              "        [0., 0., 0., ..., 0., 0., 0.],\n",
              "        [0., 0., 0., ..., 0., 0., 0.],\n",
              "        [0., 0., 0., ..., 0., 0., 0.]],\n",
              "\n",
              "       [[0., 0., 0., ..., 0., 0., 0.],\n",
              "        [0., 0., 0., ..., 0., 0., 0.],\n",
              "        [0., 0., 0., ..., 0., 0., 0.],\n",
              "        ...,\n",
              "        [0., 0., 0., ..., 0., 0., 0.],\n",
              "        [0., 0., 0., ..., 0., 0., 0.],\n",
              "        [0., 0., 0., ..., 0., 0., 0.]],\n",
              "\n",
              "       ...,\n",
              "\n",
              "       [[0., 0., 0., ..., 0., 0., 0.],\n",
              "        [0., 0., 0., ..., 0., 0., 0.],\n",
              "        [0., 0., 0., ..., 0., 0., 0.],\n",
              "        ...,\n",
              "        [0., 0., 0., ..., 0., 0., 0.],\n",
              "        [0., 0., 0., ..., 0., 0., 0.],\n",
              "        [0., 0., 0., ..., 0., 0., 0.]],\n",
              "\n",
              "       [[0., 0., 0., ..., 0., 0., 0.],\n",
              "        [0., 0., 0., ..., 0., 0., 0.],\n",
              "        [0., 0., 0., ..., 0., 0., 0.],\n",
              "        ...,\n",
              "        [0., 0., 0., ..., 0., 0., 0.],\n",
              "        [0., 0., 0., ..., 0., 0., 0.],\n",
              "        [0., 0., 0., ..., 0., 0., 0.]],\n",
              "\n",
              "       [[0., 0., 0., ..., 0., 0., 0.],\n",
              "        [0., 0., 0., ..., 0., 0., 0.],\n",
              "        [0., 0., 0., ..., 0., 0., 0.],\n",
              "        ...,\n",
              "        [0., 0., 0., ..., 0., 0., 0.],\n",
              "        [0., 0., 0., ..., 0., 0., 0.],\n",
              "        [0., 0., 0., ..., 0., 0., 0.]]], dtype=float32)"
            ]
          },
          "metadata": {},
          "execution_count": 6
        }
      ]
    },
    {
      "cell_type": "code",
      "source": [
        "data_2"
      ],
      "metadata": {
        "colab": {
          "base_uri": "https://localhost:8080/"
        },
        "id": "6KwcH1kDhlFo",
        "outputId": "3da93896-3c69-4427-9514-846206e102b9"
      },
      "execution_count": 7,
      "outputs": [
        {
          "output_type": "execute_result",
          "data": {
            "text/plain": [
              "array([[[0., 0., 0., ..., 0., 0., 0.],\n",
              "        [0., 0., 0., ..., 0., 0., 0.],\n",
              "        [0., 0., 0., ..., 0., 0., 0.],\n",
              "        ...,\n",
              "        [0., 0., 0., ..., 0., 0., 0.],\n",
              "        [0., 0., 0., ..., 0., 0., 0.],\n",
              "        [0., 0., 0., ..., 0., 0., 0.]],\n",
              "\n",
              "       [[0., 0., 0., ..., 0., 0., 0.],\n",
              "        [0., 0., 0., ..., 0., 0., 0.],\n",
              "        [0., 0., 0., ..., 0., 0., 0.],\n",
              "        ...,\n",
              "        [0., 0., 0., ..., 0., 0., 0.],\n",
              "        [0., 0., 0., ..., 0., 0., 0.],\n",
              "        [0., 0., 0., ..., 0., 0., 0.]],\n",
              "\n",
              "       [[0., 0., 0., ..., 0., 0., 0.],\n",
              "        [0., 0., 0., ..., 0., 0., 0.],\n",
              "        [0., 0., 0., ..., 0., 0., 0.],\n",
              "        ...,\n",
              "        [0., 0., 0., ..., 0., 0., 0.],\n",
              "        [0., 0., 0., ..., 0., 0., 0.],\n",
              "        [0., 0., 0., ..., 0., 0., 0.]],\n",
              "\n",
              "       ...,\n",
              "\n",
              "       [[0., 0., 0., ..., 0., 0., 0.],\n",
              "        [0., 0., 0., ..., 0., 0., 0.],\n",
              "        [0., 0., 0., ..., 0., 0., 0.],\n",
              "        ...,\n",
              "        [0., 0., 0., ..., 0., 0., 0.],\n",
              "        [0., 0., 0., ..., 0., 0., 0.],\n",
              "        [0., 0., 0., ..., 0., 0., 0.]],\n",
              "\n",
              "       [[0., 0., 0., ..., 0., 0., 0.],\n",
              "        [0., 0., 0., ..., 0., 0., 0.],\n",
              "        [0., 0., 0., ..., 0., 0., 0.],\n",
              "        ...,\n",
              "        [0., 0., 0., ..., 0., 0., 0.],\n",
              "        [0., 0., 0., ..., 0., 0., 0.],\n",
              "        [0., 0., 0., ..., 0., 0., 0.]],\n",
              "\n",
              "       [[0., 0., 0., ..., 0., 0., 0.],\n",
              "        [0., 0., 0., ..., 0., 0., 0.],\n",
              "        [0., 0., 0., ..., 0., 0., 0.],\n",
              "        ...,\n",
              "        [0., 0., 0., ..., 0., 0., 0.],\n",
              "        [0., 0., 0., ..., 0., 0., 0.],\n",
              "        [0., 0., 0., ..., 0., 0., 0.]]], dtype=float32)"
            ]
          },
          "metadata": {},
          "execution_count": 7
        }
      ]
    },
    {
      "cell_type": "code",
      "source": [
        "high_res_images = data_1[:1716, :, :]\n",
        "low_res_images=data_2[:1716,:,:]"
      ],
      "metadata": {
        "id": "uIN8wtAPhn4o"
      },
      "execution_count": 8,
      "outputs": []
    },
    {
      "cell_type": "code",
      "source": [
        "scaler = StandardScaler()\n",
        "low_res_images = scaler.fit_transform(low_res_images.reshape(-1, 1)).reshape(low_res_images.shape)\n",
        "high_res_images = scaler.transform(high_res_images.reshape(-1, 1)).reshape(high_res_images.shape)\n"
      ],
      "metadata": {
        "id": "bNZ3qECvhq9U"
      },
      "execution_count": 9,
      "outputs": []
    },
    {
      "cell_type": "code",
      "source": [
        "X_train, X_temp, y_train, y_temp = train_test_split(low_res_images, high_res_images, test_size=0.3, random_state=42)\n",
        "X_val, X_test, y_val, y_test = train_test_split(X_temp, y_temp, test_size=0.5, random_state=42)\n"
      ],
      "metadata": {
        "id": "OuCTIhrdhv1q"
      },
      "execution_count": 10,
      "outputs": []
    },
    {
      "cell_type": "code",
      "source": [
        "# Define the U-Net architecture\n",
        "def unet(input_shape):\n",
        "    inputs = keras.layers.Input(input_shape)\n",
        "\n",
        "    # Encoder\n",
        "    conv1 = keras.layers.Conv2D(64, (3, 3), activation='relu', padding='same')(inputs)\n",
        "    conv1 = keras.layers.Conv2D(64, (3, 3), activation='relu', padding='same')(conv1)\n",
        "    pool1 = keras.layers.MaxPooling2D(pool_size=(2, 2))(conv1)\n",
        "\n",
        "    conv2 = keras.layers.Conv2D(128, (3, 3), activation='relu', padding='same')(pool1)\n",
        "    conv2 = keras.layers.Conv2D(128, (3, 3), activation='relu', padding='same')(conv2)\n",
        "    pool2 = keras.layers.MaxPooling2D(pool_size=(2, 2))(conv2)\n",
        "\n",
        "    # Bottleneck\n",
        "    conv3 = keras.layers.Conv2D(256, (3, 3), activation='relu', padding='same')(pool2)\n",
        "    conv3 = keras.layers.Conv2D(256, (3, 3), activation='relu', padding='same')(conv3)\n",
        "\n",
        "    # Decoder\n",
        "    up4 = keras.layers.UpSampling2D(size=(2, 2))(conv3)\n",
        "    merge4 = keras.layers.concatenate([conv2, up4], axis=-1)\n",
        "    conv4 = keras.layers.Conv2D(128, (3, 3), activation='relu', padding='same')(merge4)\n",
        "    conv4 = keras.layers.Conv2D(128, (3, 3), activation='relu', padding='same')(conv4)\n",
        "\n",
        "    up5 = keras.layers.UpSampling2D(size=(2, 2))(conv4)\n",
        "    merge5 = keras.layers.concatenate([conv1, up5], axis=-1)\n",
        "    conv5 = keras.layers.Conv2D(64, (3, 3), activation='relu', padding='same')(merge5)\n",
        "    conv5 = keras.layers.Conv2D(64, (3, 3), activation='relu', padding='same')(conv5)\n",
        "\n",
        "    outputs = keras.layers.Conv2D(1, (1, 1), activation='linear')(conv5)\n",
        "\n",
        "    return keras.models.Model(inputs=[inputs], outputs=[outputs])\n"
      ],
      "metadata": {
        "id": "7I49sob0hyCk"
      },
      "execution_count": 11,
      "outputs": []
    },
    {
      "cell_type": "code",
      "source": [
        "input_shape = (36, 36, 1)\n",
        "model = unet(input_shape)\n"
      ],
      "metadata": {
        "id": "CotNG7DZh_IA"
      },
      "execution_count": 12,
      "outputs": []
    },
    {
      "cell_type": "code",
      "source": [
        "model.compile(optimizer='adam', loss='mean_squared_error', metrics=['mean_absolute_error'])\n"
      ],
      "metadata": {
        "id": "guCcMevMiC4d"
      },
      "execution_count": 13,
      "outputs": []
    },
    {
      "cell_type": "code",
      "source": [
        "early_stopping = keras.callbacks.EarlyStopping(monitor='val_loss', patience=10)\n",
        "model_checkpoint = keras.callbacks.ModelCheckpoint('unet_model.h5', save_best_only=True)\n"
      ],
      "metadata": {
        "id": "Pcjjb9uMiFM9"
      },
      "execution_count": 14,
      "outputs": []
    },
    {
      "cell_type": "code",
      "source": [
        "history = model.fit(X_train, y_train, validation_data=(X_val, y_val),\n",
        "                    epochs=100, batch_size=32, callbacks=[early_stopping, model_checkpoint])\n"
      ],
      "metadata": {
        "colab": {
          "base_uri": "https://localhost:8080/"
        },
        "id": "dQQqOE1ViHbA",
        "outputId": "2b615021-29b9-4a0e-dba8-09e4cf5c28de"
      },
      "execution_count": 15,
      "outputs": [
        {
          "output_type": "stream",
          "name": "stdout",
          "text": [
            "Epoch 1/100\n",
            "38/38 [==============================] - 18s 62ms/step - loss: 1.1754 - mean_absolute_error: 0.6282 - val_loss: 0.3658 - val_mean_absolute_error: 0.3285\n",
            "Epoch 2/100\n",
            "38/38 [==============================] - 1s 32ms/step - loss: 0.2549 - mean_absolute_error: 0.2765 - val_loss: 0.1737 - val_mean_absolute_error: 0.2216\n",
            "Epoch 3/100\n",
            "38/38 [==============================] - 1s 29ms/step - loss: 0.1476 - mean_absolute_error: 0.2009 - val_loss: 0.1100 - val_mean_absolute_error: 0.1725\n",
            "Epoch 4/100\n",
            "38/38 [==============================] - 1s 32ms/step - loss: 0.1028 - mean_absolute_error: 0.1611 - val_loss: 0.0852 - val_mean_absolute_error: 0.1426\n",
            "Epoch 5/100\n",
            "38/38 [==============================] - 1s 31ms/step - loss: 0.0848 - mean_absolute_error: 0.1424 - val_loss: 0.0758 - val_mean_absolute_error: 0.1372\n",
            "Epoch 6/100\n",
            "38/38 [==============================] - 1s 29ms/step - loss: 0.0734 - mean_absolute_error: 0.1294 - val_loss: 0.0673 - val_mean_absolute_error: 0.1214\n",
            "Epoch 7/100\n",
            "38/38 [==============================] - 1s 29ms/step - loss: 0.0678 - mean_absolute_error: 0.1238 - val_loss: 0.0711 - val_mean_absolute_error: 0.1267\n",
            "Epoch 8/100\n",
            "38/38 [==============================] - 1s 27ms/step - loss: 0.0651 - mean_absolute_error: 0.1195 - val_loss: 0.0743 - val_mean_absolute_error: 0.1236\n",
            "Epoch 9/100\n",
            "38/38 [==============================] - 1s 33ms/step - loss: 0.0638 - mean_absolute_error: 0.1166 - val_loss: 0.0605 - val_mean_absolute_error: 0.1088\n",
            "Epoch 10/100\n",
            "38/38 [==============================] - 1s 31ms/step - loss: 0.0618 - mean_absolute_error: 0.1130 - val_loss: 0.0618 - val_mean_absolute_error: 0.1128\n",
            "Epoch 11/100\n",
            "38/38 [==============================] - 1s 34ms/step - loss: 0.0583 - mean_absolute_error: 0.1080 - val_loss: 0.0596 - val_mean_absolute_error: 0.1062\n",
            "Epoch 12/100\n",
            "38/38 [==============================] - 1s 29ms/step - loss: 0.0603 - mean_absolute_error: 0.1091 - val_loss: 0.0568 - val_mean_absolute_error: 0.1070\n",
            "Epoch 13/100\n",
            "38/38 [==============================] - 1s 32ms/step - loss: 0.0579 - mean_absolute_error: 0.1092 - val_loss: 0.0559 - val_mean_absolute_error: 0.1031\n",
            "Epoch 14/100\n",
            "38/38 [==============================] - 1s 28ms/step - loss: 0.0571 - mean_absolute_error: 0.1059 - val_loss: 0.0605 - val_mean_absolute_error: 0.1151\n",
            "Epoch 15/100\n",
            "38/38 [==============================] - 1s 29ms/step - loss: 0.0575 - mean_absolute_error: 0.1055 - val_loss: 0.0564 - val_mean_absolute_error: 0.1025\n",
            "Epoch 16/100\n",
            "38/38 [==============================] - 1s 32ms/step - loss: 0.0549 - mean_absolute_error: 0.1013 - val_loss: 0.0558 - val_mean_absolute_error: 0.1027\n",
            "Epoch 17/100\n",
            "38/38 [==============================] - 1s 30ms/step - loss: 0.0544 - mean_absolute_error: 0.1029 - val_loss: 0.0545 - val_mean_absolute_error: 0.0997\n",
            "Epoch 18/100\n",
            "38/38 [==============================] - 1s 30ms/step - loss: 0.0536 - mean_absolute_error: 0.0988 - val_loss: 0.0540 - val_mean_absolute_error: 0.0976\n",
            "Epoch 19/100\n",
            "38/38 [==============================] - 1s 29ms/step - loss: 0.0539 - mean_absolute_error: 0.0998 - val_loss: 0.0648 - val_mean_absolute_error: 0.1061\n",
            "Epoch 20/100\n",
            "38/38 [==============================] - 1s 30ms/step - loss: 0.0558 - mean_absolute_error: 0.1022 - val_loss: 0.0554 - val_mean_absolute_error: 0.0997\n",
            "Epoch 21/100\n",
            "38/38 [==============================] - 1s 31ms/step - loss: 0.0534 - mean_absolute_error: 0.0991 - val_loss: 0.0546 - val_mean_absolute_error: 0.1004\n",
            "Epoch 22/100\n",
            "38/38 [==============================] - 1s 30ms/step - loss: 0.0534 - mean_absolute_error: 0.0987 - val_loss: 0.0552 - val_mean_absolute_error: 0.0971\n",
            "Epoch 23/100\n",
            "38/38 [==============================] - 1s 31ms/step - loss: 0.0522 - mean_absolute_error: 0.0966 - val_loss: 0.0570 - val_mean_absolute_error: 0.1014\n",
            "Epoch 24/100\n",
            "38/38 [==============================] - 1s 27ms/step - loss: 0.0514 - mean_absolute_error: 0.0980 - val_loss: 0.0566 - val_mean_absolute_error: 0.1025\n",
            "Epoch 25/100\n",
            "38/38 [==============================] - 1s 29ms/step - loss: 0.0532 - mean_absolute_error: 0.0977 - val_loss: 0.0571 - val_mean_absolute_error: 0.0996\n",
            "Epoch 26/100\n",
            "38/38 [==============================] - 1s 27ms/step - loss: 0.0509 - mean_absolute_error: 0.0970 - val_loss: 0.0549 - val_mean_absolute_error: 0.0962\n",
            "Epoch 27/100\n",
            "38/38 [==============================] - 1s 29ms/step - loss: 0.0510 - mean_absolute_error: 0.0942 - val_loss: 0.0565 - val_mean_absolute_error: 0.0987\n",
            "Epoch 28/100\n",
            "38/38 [==============================] - 1s 29ms/step - loss: 0.0496 - mean_absolute_error: 0.0926 - val_loss: 0.0542 - val_mean_absolute_error: 0.0984\n"
          ]
        }
      ]
    },
    {
      "cell_type": "code",
      "source": [
        "best_model = keras.models.load_model('unet_model.h5')\n"
      ],
      "metadata": {
        "id": "Vjn43CYZiJ-g"
      },
      "execution_count": 16,
      "outputs": []
    },
    {
      "cell_type": "code",
      "source": [
        "test_loss, test_mae = best_model.evaluate(X_test, y_test)"
      ],
      "metadata": {
        "colab": {
          "base_uri": "https://localhost:8080/"
        },
        "id": "Hhx0raM_iMNc",
        "outputId": "84981db5-05e4-4000-8e03-a58e3635482c"
      },
      "execution_count": 17,
      "outputs": [
        {
          "output_type": "stream",
          "name": "stdout",
          "text": [
            "9/9 [==============================] - 1s 47ms/step - loss: 0.0573 - mean_absolute_error: 0.1004\n"
          ]
        }
      ]
    },
    {
      "cell_type": "code",
      "source": [
        "bias_corrected_data = best_model.predict(low_res_images)"
      ],
      "metadata": {
        "colab": {
          "base_uri": "https://localhost:8080/"
        },
        "id": "gdw0at9GiOVE",
        "outputId": "492962bc-cb15-455f-f2f3-1faa1202dac8"
      },
      "execution_count": 18,
      "outputs": [
        {
          "output_type": "stream",
          "name": "stdout",
          "text": [
            "54/54 [==============================] - 1s 13ms/step\n"
          ]
        }
      ]
    },
    {
      "cell_type": "code",
      "source": [
        "bias_corrected_data = bias_corrected_data.reshape(-1, 36, 36)"
      ],
      "metadata": {
        "id": "i15Sl0u_iRVD"
      },
      "execution_count": 19,
      "outputs": []
    },
    {
      "cell_type": "code",
      "source": [
        "GCM_data_real=high_res_images.reshape(-1,36,36)"
      ],
      "metadata": {
        "id": "OUz1n1uxiTuI"
      },
      "execution_count": 20,
      "outputs": []
    },
    {
      "cell_type": "code",
      "source": [
        "differences=bias_corrected_data-GCM_data_real"
      ],
      "metadata": {
        "id": "nDIVKyqwiVpg"
      },
      "execution_count": 21,
      "outputs": []
    },
    {
      "cell_type": "code",
      "source": [
        "mean_differences=np.mean(differences,axis=(1,2))\n",
        "global_mean_difference=np.mean(differences)\n",
        "print(global_mean_difference)"
      ],
      "metadata": {
        "colab": {
          "base_uri": "https://localhost:8080/"
        },
        "id": "Op_UjupWiX-Y",
        "outputId": "eedfd82b-e0aa-4c0b-a956-2a00ed565161"
      },
      "execution_count": 22,
      "outputs": [
        {
          "output_type": "stream",
          "name": "stdout",
          "text": [
            "-0.0013511245\n"
          ]
        }
      ]
    },
    {
      "cell_type": "code",
      "source": [],
      "metadata": {
        "id": "2cUhL7KWiaBQ"
      },
      "execution_count": null,
      "outputs": []
    }
  ]
}