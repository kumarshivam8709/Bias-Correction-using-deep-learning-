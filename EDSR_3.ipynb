{
  "nbformat": 4,
  "nbformat_minor": 0,
  "metadata": {
    "colab": {
      "provenance": [],
      "gpuType": "T4"
    },
    "kernelspec": {
      "name": "python3",
      "display_name": "Python 3"
    },
    "language_info": {
      "name": "python"
    },
    "accelerator": "GPU"
  },
  "cells": [
    {
      "cell_type": "code",
      "source": [
        "import numpy as np\n",
        "import tensorflow as tf\n",
        "from tensorflow import keras\n",
        "from sklearn.model_selection import train_test_split\n",
        "from sklearn.preprocessing import StandardScaler"
      ],
      "metadata": {
        "id": "fLgUdXqB2boN"
      },
      "execution_count": 1,
      "outputs": []
    },
    {
      "cell_type": "code",
      "source": [
        "from google.colab import drive\n",
        "drive.mount('/content/drive')"
      ],
      "metadata": {
        "colab": {
          "base_uri": "https://localhost:8080/"
        },
        "id": "E6aFbQ-e2q5U",
        "outputId": "efa5fb7e-af83-49d8-d9ae-a8f79bcb6b3c"
      },
      "execution_count": 2,
      "outputs": [
        {
          "output_type": "stream",
          "name": "stdout",
          "text": [
            "Mounted at /content/drive\n"
          ]
        }
      ]
    },
    {
      "cell_type": "code",
      "source": [
        "file_path_1 = \"/content/drive/My Drive/IMDDataSample1deg_1981_2021.npy\"\n",
        "file_path_2 = \"/content/drive/My Drive/BiasDataSample1deg_1981_2021.npy\"\n",
        "data_1 = np.load(file_path_1)\n",
        "data_2 = np.load(file_path_2)"
      ],
      "metadata": {
        "id": "4jTZw5Fc272F"
      },
      "execution_count": 3,
      "outputs": []
    },
    {
      "cell_type": "code",
      "source": [
        "data_1.shape"
      ],
      "metadata": {
        "colab": {
          "base_uri": "https://localhost:8080/"
        },
        "id": "KZzZcIXE3I2V",
        "outputId": "7a4bf41c-1a03-4659-ad43-ad5727111628"
      },
      "execution_count": 4,
      "outputs": [
        {
          "output_type": "execute_result",
          "data": {
            "text/plain": [
              "(2132, 36, 36)"
            ]
          },
          "metadata": {},
          "execution_count": 4
        }
      ]
    },
    {
      "cell_type": "code",
      "source": [
        "data_2.shape"
      ],
      "metadata": {
        "colab": {
          "base_uri": "https://localhost:8080/"
        },
        "id": "0joJF7U83LGU",
        "outputId": "2bf0d1bc-f6f6-4064-9dac-5974077edb53"
      },
      "execution_count": 5,
      "outputs": [
        {
          "output_type": "execute_result",
          "data": {
            "text/plain": [
              "(2132, 36, 36)"
            ]
          },
          "metadata": {},
          "execution_count": 5
        }
      ]
    },
    {
      "cell_type": "code",
      "source": [
        "data_1"
      ],
      "metadata": {
        "colab": {
          "base_uri": "https://localhost:8080/"
        },
        "id": "SuPmd1nB3ORV",
        "outputId": "4867dd84-3600-49ff-b0ae-43642bacaceb"
      },
      "execution_count": 6,
      "outputs": [
        {
          "output_type": "execute_result",
          "data": {
            "text/plain": [
              "array([[[0., 0., 0., ..., 0., 0., 0.],\n",
              "        [0., 0., 0., ..., 0., 0., 0.],\n",
              "        [0., 0., 0., ..., 0., 0., 0.],\n",
              "        ...,\n",
              "        [0., 0., 0., ..., 0., 0., 0.],\n",
              "        [0., 0., 0., ..., 0., 0., 0.],\n",
              "        [0., 0., 0., ..., 0., 0., 0.]],\n",
              "\n",
              "       [[0., 0., 0., ..., 0., 0., 0.],\n",
              "        [0., 0., 0., ..., 0., 0., 0.],\n",
              "        [0., 0., 0., ..., 0., 0., 0.],\n",
              "        ...,\n",
              "        [0., 0., 0., ..., 0., 0., 0.],\n",
              "        [0., 0., 0., ..., 0., 0., 0.],\n",
              "        [0., 0., 0., ..., 0., 0., 0.]],\n",
              "\n",
              "       [[0., 0., 0., ..., 0., 0., 0.],\n",
              "        [0., 0., 0., ..., 0., 0., 0.],\n",
              "        [0., 0., 0., ..., 0., 0., 0.],\n",
              "        ...,\n",
              "        [0., 0., 0., ..., 0., 0., 0.],\n",
              "        [0., 0., 0., ..., 0., 0., 0.],\n",
              "        [0., 0., 0., ..., 0., 0., 0.]],\n",
              "\n",
              "       ...,\n",
              "\n",
              "       [[0., 0., 0., ..., 0., 0., 0.],\n",
              "        [0., 0., 0., ..., 0., 0., 0.],\n",
              "        [0., 0., 0., ..., 0., 0., 0.],\n",
              "        ...,\n",
              "        [0., 0., 0., ..., 0., 0., 0.],\n",
              "        [0., 0., 0., ..., 0., 0., 0.],\n",
              "        [0., 0., 0., ..., 0., 0., 0.]],\n",
              "\n",
              "       [[0., 0., 0., ..., 0., 0., 0.],\n",
              "        [0., 0., 0., ..., 0., 0., 0.],\n",
              "        [0., 0., 0., ..., 0., 0., 0.],\n",
              "        ...,\n",
              "        [0., 0., 0., ..., 0., 0., 0.],\n",
              "        [0., 0., 0., ..., 0., 0., 0.],\n",
              "        [0., 0., 0., ..., 0., 0., 0.]],\n",
              "\n",
              "       [[0., 0., 0., ..., 0., 0., 0.],\n",
              "        [0., 0., 0., ..., 0., 0., 0.],\n",
              "        [0., 0., 0., ..., 0., 0., 0.],\n",
              "        ...,\n",
              "        [0., 0., 0., ..., 0., 0., 0.],\n",
              "        [0., 0., 0., ..., 0., 0., 0.],\n",
              "        [0., 0., 0., ..., 0., 0., 0.]]], dtype=float32)"
            ]
          },
          "metadata": {},
          "execution_count": 6
        }
      ]
    },
    {
      "cell_type": "code",
      "source": [
        "data_2"
      ],
      "metadata": {
        "colab": {
          "base_uri": "https://localhost:8080/"
        },
        "id": "6O10WE5i3Sx8",
        "outputId": "5f9b44c4-fc2c-437c-8075-d7acd9863a7b"
      },
      "execution_count": 7,
      "outputs": [
        {
          "output_type": "execute_result",
          "data": {
            "text/plain": [
              "array([[[0., 0., 0., ..., 0., 0., 0.],\n",
              "        [0., 0., 0., ..., 0., 0., 0.],\n",
              "        [0., 0., 0., ..., 0., 0., 0.],\n",
              "        ...,\n",
              "        [0., 0., 0., ..., 0., 0., 0.],\n",
              "        [0., 0., 0., ..., 0., 0., 0.],\n",
              "        [0., 0., 0., ..., 0., 0., 0.]],\n",
              "\n",
              "       [[0., 0., 0., ..., 0., 0., 0.],\n",
              "        [0., 0., 0., ..., 0., 0., 0.],\n",
              "        [0., 0., 0., ..., 0., 0., 0.],\n",
              "        ...,\n",
              "        [0., 0., 0., ..., 0., 0., 0.],\n",
              "        [0., 0., 0., ..., 0., 0., 0.],\n",
              "        [0., 0., 0., ..., 0., 0., 0.]],\n",
              "\n",
              "       [[0., 0., 0., ..., 0., 0., 0.],\n",
              "        [0., 0., 0., ..., 0., 0., 0.],\n",
              "        [0., 0., 0., ..., 0., 0., 0.],\n",
              "        ...,\n",
              "        [0., 0., 0., ..., 0., 0., 0.],\n",
              "        [0., 0., 0., ..., 0., 0., 0.],\n",
              "        [0., 0., 0., ..., 0., 0., 0.]],\n",
              "\n",
              "       ...,\n",
              "\n",
              "       [[0., 0., 0., ..., 0., 0., 0.],\n",
              "        [0., 0., 0., ..., 0., 0., 0.],\n",
              "        [0., 0., 0., ..., 0., 0., 0.],\n",
              "        ...,\n",
              "        [0., 0., 0., ..., 0., 0., 0.],\n",
              "        [0., 0., 0., ..., 0., 0., 0.],\n",
              "        [0., 0., 0., ..., 0., 0., 0.]],\n",
              "\n",
              "       [[0., 0., 0., ..., 0., 0., 0.],\n",
              "        [0., 0., 0., ..., 0., 0., 0.],\n",
              "        [0., 0., 0., ..., 0., 0., 0.],\n",
              "        ...,\n",
              "        [0., 0., 0., ..., 0., 0., 0.],\n",
              "        [0., 0., 0., ..., 0., 0., 0.],\n",
              "        [0., 0., 0., ..., 0., 0., 0.]],\n",
              "\n",
              "       [[0., 0., 0., ..., 0., 0., 0.],\n",
              "        [0., 0., 0., ..., 0., 0., 0.],\n",
              "        [0., 0., 0., ..., 0., 0., 0.],\n",
              "        ...,\n",
              "        [0., 0., 0., ..., 0., 0., 0.],\n",
              "        [0., 0., 0., ..., 0., 0., 0.],\n",
              "        [0., 0., 0., ..., 0., 0., 0.]]], dtype=float32)"
            ]
          },
          "metadata": {},
          "execution_count": 7
        }
      ]
    },
    {
      "cell_type": "code",
      "source": [
        "observational_data = data_1[:1716, :, :]\n",
        "GCM_data=data_2[:1716,:,:]"
      ],
      "metadata": {
        "id": "zcGdbq5z3VXF"
      },
      "execution_count": 8,
      "outputs": []
    },
    {
      "cell_type": "code",
      "source": [
        "GCM_data = GCM_data.reshape(-1, 36, 36, 1)\n",
        "observational_data = observational_data.reshape(-1, 36, 36, 1)"
      ],
      "metadata": {
        "id": "BoFi20AY3acc"
      },
      "execution_count": 9,
      "outputs": []
    },
    {
      "cell_type": "code",
      "source": [
        "scaler = StandardScaler()\n",
        "GCM_data = scaler.fit_transform(GCM_data.reshape(-1, 1)).reshape(GCM_data.shape)\n",
        "observational_data = scaler.transform(observational_data.reshape(-1, 1)).reshape(observational_data.shape)"
      ],
      "metadata": {
        "id": "PWbUc3sP2hyM"
      },
      "execution_count": 10,
      "outputs": []
    },
    {
      "cell_type": "code",
      "source": [
        "X_train, X_temp, y_train, y_temp = train_test_split(GCM_data, observational_data, test_size=0.3, random_state=42)\n",
        "X_val, X_test, y_val, y_test = train_test_split(X_temp, y_temp, test_size=0.5, random_state=42)"
      ],
      "metadata": {
        "id": "gYhFngvW3w7T"
      },
      "execution_count": 11,
      "outputs": []
    },
    {
      "cell_type": "code",
      "source": [
        "from keras.layers import Add\n",
        "from keras.models import Model\n",
        "\n",
        "input_layer = keras.layers.Input(shape=(36, 36, 1))\n",
        "\n",
        "# Feature extraction layers\n",
        "x = keras.layers.Conv2D(64, (3, 3), activation='relu', padding='same')(input_layer)\n",
        "x = keras.layers.BatchNormalization()(x)\n",
        "x = keras.layers.Conv2D(64, (3, 3), activation='relu', padding='same')(x)\n",
        "x = keras.layers.BatchNormalization()(x)\n",
        "\n",
        "# Residual blocks\n",
        "for _ in range(8):  # Experiment with the number of residual blocks\n",
        "    residual = x\n",
        "    x = keras.layers.Conv2D(64, (3, 3), activation='relu', padding='same')(x)\n",
        "    x = keras.layers.BatchNormalization()(x)\n",
        "    x = keras.layers.Conv2D(64, (3, 3), activation='relu', padding='same')(x)\n",
        "    x = keras.layers.BatchNormalization()(x)\n",
        "    x = Add()([residual, x])  # Residual connection\n",
        "\n",
        "# Output layer\n",
        "output_layer = keras.layers.Conv2D(1, (3, 3), activation='linear', padding='same')(x)\n",
        "\n",
        "# Create the model\n",
        "model = Model(inputs=input_layer, outputs=output_layer)\n"
      ],
      "metadata": {
        "id": "snIy2wBG47Su"
      },
      "execution_count": 29,
      "outputs": []
    },
    {
      "cell_type": "code",
      "source": [
        "model.compile(optimizer='adam', loss='mean_squared_error', metrics=['mean_absolute_error'])\n",
        "early_stopping = keras.callbacks.EarlyStopping(monitor='val_loss', patience=10)\n",
        "model_checkpoint = keras.callbacks.ModelCheckpoint('bias_correction_model.h5', save_best_only=True)"
      ],
      "metadata": {
        "id": "jQRmL0h_5BRU"
      },
      "execution_count": 30,
      "outputs": []
    },
    {
      "cell_type": "code",
      "source": [
        "history = model.fit(X_train, y_train, validation_data=(X_val, y_val),\n",
        "                    epochs=100, batch_size=32, callbacks=[early_stopping, model_checkpoint])"
      ],
      "metadata": {
        "colab": {
          "base_uri": "https://localhost:8080/"
        },
        "id": "tWhKMzw55Lwl",
        "outputId": "22baae69-b4ea-40e2-919f-ce4b124f4a49"
      },
      "execution_count": 32,
      "outputs": [
        {
          "output_type": "stream",
          "name": "stdout",
          "text": [
            "Epoch 1/100\n",
            "38/38 [==============================] - 2s 65ms/step - loss: 0.0614 - mean_absolute_error: 0.1356 - val_loss: 0.0627 - val_mean_absolute_error: 0.1318\n",
            "Epoch 2/100\n",
            "38/38 [==============================] - 2s 58ms/step - loss: 0.0687 - mean_absolute_error: 0.1532 - val_loss: 0.0754 - val_mean_absolute_error: 0.1706\n",
            "Epoch 3/100\n",
            "38/38 [==============================] - 2s 64ms/step - loss: 0.0678 - mean_absolute_error: 0.1558 - val_loss: 0.0620 - val_mean_absolute_error: 0.1350\n",
            "Epoch 4/100\n",
            "38/38 [==============================] - 2s 59ms/step - loss: 0.0643 - mean_absolute_error: 0.1440 - val_loss: 0.0680 - val_mean_absolute_error: 0.1533\n",
            "Epoch 5/100\n",
            "38/38 [==============================] - 2s 61ms/step - loss: 0.0653 - mean_absolute_error: 0.1443 - val_loss: 0.0660 - val_mean_absolute_error: 0.1465\n",
            "Epoch 6/100\n",
            "38/38 [==============================] - 2s 64ms/step - loss: 0.0631 - mean_absolute_error: 0.1396 - val_loss: 0.0619 - val_mean_absolute_error: 0.1327\n",
            "Epoch 7/100\n",
            "38/38 [==============================] - 2s 59ms/step - loss: 0.0583 - mean_absolute_error: 0.1270 - val_loss: 0.0635 - val_mean_absolute_error: 0.1364\n",
            "Epoch 8/100\n",
            "38/38 [==============================] - 2s 59ms/step - loss: 0.0627 - mean_absolute_error: 0.1373 - val_loss: 0.0665 - val_mean_absolute_error: 0.1402\n",
            "Epoch 9/100\n",
            "38/38 [==============================] - 2s 59ms/step - loss: 0.0660 - mean_absolute_error: 0.1514 - val_loss: 0.0721 - val_mean_absolute_error: 0.1515\n",
            "Epoch 10/100\n",
            "38/38 [==============================] - 2s 65ms/step - loss: 0.0613 - mean_absolute_error: 0.1369 - val_loss: 0.0631 - val_mean_absolute_error: 0.1427\n",
            "Epoch 11/100\n",
            "38/38 [==============================] - 2s 62ms/step - loss: 0.0606 - mean_absolute_error: 0.1369 - val_loss: 0.0658 - val_mean_absolute_error: 0.1346\n",
            "Epoch 12/100\n",
            "38/38 [==============================] - 2s 60ms/step - loss: 0.0615 - mean_absolute_error: 0.1352 - val_loss: 0.0645 - val_mean_absolute_error: 0.1329\n",
            "Epoch 13/100\n",
            "38/38 [==============================] - 2s 60ms/step - loss: 0.0629 - mean_absolute_error: 0.1399 - val_loss: 0.0655 - val_mean_absolute_error: 0.1429\n",
            "Epoch 14/100\n",
            "38/38 [==============================] - 2s 60ms/step - loss: 0.0625 - mean_absolute_error: 0.1397 - val_loss: 0.0626 - val_mean_absolute_error: 0.1421\n",
            "Epoch 15/100\n",
            "38/38 [==============================] - 2s 60ms/step - loss: 0.0615 - mean_absolute_error: 0.1386 - val_loss: 0.0637 - val_mean_absolute_error: 0.1378\n",
            "Epoch 16/100\n",
            "38/38 [==============================] - 3s 67ms/step - loss: 0.0616 - mean_absolute_error: 0.1363 - val_loss: 0.0652 - val_mean_absolute_error: 0.1353\n"
          ]
        }
      ]
    },
    {
      "cell_type": "code",
      "source": [
        "best_model = keras.models.load_model('bias_correction_model.h5')"
      ],
      "metadata": {
        "id": "uAZLfLPX9dqJ"
      },
      "execution_count": 33,
      "outputs": []
    },
    {
      "cell_type": "code",
      "source": [
        "test_loss, test_mae = best_model.evaluate(X_test, y_test)"
      ],
      "metadata": {
        "colab": {
          "base_uri": "https://localhost:8080/"
        },
        "id": "zMShn81I9guI",
        "outputId": "d400058d-efe7-42a1-9177-363963a9dedf"
      },
      "execution_count": 34,
      "outputs": [
        {
          "output_type": "stream",
          "name": "stdout",
          "text": [
            "9/9 [==============================] - 1s 26ms/step - loss: 0.0649 - mean_absolute_error: 0.1351\n"
          ]
        }
      ]
    },
    {
      "cell_type": "code",
      "source": [
        "bias_corrected_data = best_model.predict(GCM_data)"
      ],
      "metadata": {
        "colab": {
          "base_uri": "https://localhost:8080/"
        },
        "id": "Ppp3KUap9pOx",
        "outputId": "0b44d1d1-c61e-4fc1-c006-9a62e2bdd577"
      },
      "execution_count": 35,
      "outputs": [
        {
          "output_type": "stream",
          "name": "stdout",
          "text": [
            "54/54 [==============================] - 1s 18ms/step\n"
          ]
        }
      ]
    },
    {
      "cell_type": "code",
      "source": [
        "bias_corrected_data = bias_corrected_data.reshape(-1, 36, 36)"
      ],
      "metadata": {
        "id": "ymwGRsvP9usD"
      },
      "execution_count": 36,
      "outputs": []
    },
    {
      "cell_type": "code",
      "execution_count": 37,
      "metadata": {
        "id": "5z0UmzZe2TJ7"
      },
      "outputs": [],
      "source": [
        "GCM_data_real=GCM_data.reshape(-1,36,36)"
      ]
    },
    {
      "cell_type": "code",
      "source": [
        "differences=bias_corrected_data-GCM_data_real"
      ],
      "metadata": {
        "id": "mwiO_ebo953B"
      },
      "execution_count": 38,
      "outputs": []
    },
    {
      "cell_type": "code",
      "source": [
        "mean_differences=np.mean(differences,axis=(1,2))\n",
        "global_mean_difference=np.mean(differences)\n",
        "print(global_mean_difference)"
      ],
      "metadata": {
        "colab": {
          "base_uri": "https://localhost:8080/"
        },
        "id": "Rzl-HgBw-XMc",
        "outputId": "1236fc2a-aee1-4874-9829-a3bbc531234c"
      },
      "execution_count": 39,
      "outputs": [
        {
          "output_type": "stream",
          "name": "stdout",
          "text": [
            "0.2509495\n"
          ]
        }
      ]
    },
    {
      "cell_type": "code",
      "source": [],
      "metadata": {
        "id": "zv2Pp9_w-cQB"
      },
      "execution_count": null,
      "outputs": []
    }
  ]
}