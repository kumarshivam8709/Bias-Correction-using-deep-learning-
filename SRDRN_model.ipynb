{
  "nbformat": 4,
  "nbformat_minor": 0,
  "metadata": {
    "colab": {
      "provenance": [],
      "gpuType": "T4"
    },
    "kernelspec": {
      "name": "python3",
      "display_name": "Python 3"
    },
    "language_info": {
      "name": "python"
    },
    "accelerator": "GPU"
  },
  "cells": [
    {
      "cell_type": "code",
      "execution_count": 17,
      "metadata": {
        "id": "aSXNfKJVEbQE"
      },
      "outputs": [],
      "source": [
        "import numpy as np\n",
        "import tensorflow as tf\n",
        "from tensorflow import keras\n",
        "from sklearn.model_selection import train_test_split\n",
        "from sklearn.preprocessing import StandardScaler\n",
        "from keras.layers import Conv2D\n",
        "from keras.layers import Add\n",
        "from keras.models import Model\n"
      ]
    },
    {
      "cell_type": "code",
      "source": [
        "from google.colab import drive\n",
        "drive.mount('/content/drive')"
      ],
      "metadata": {
        "colab": {
          "base_uri": "https://localhost:8080/"
        },
        "id": "1VLX_CxsEcHA",
        "outputId": "7b8d2e93-47f3-401b-b856-d7e18d70f868"
      },
      "execution_count": 2,
      "outputs": [
        {
          "output_type": "stream",
          "name": "stdout",
          "text": [
            "Mounted at /content/drive\n"
          ]
        }
      ]
    },
    {
      "cell_type": "code",
      "source": [
        "file_path_1 = \"/content/drive/My Drive/IMDDataSample1deg_1981_2021.npy\"\n",
        "file_path_2 = \"/content/drive/My Drive/BiasDataSample1deg_1981_2021.npy\"\n",
        "data_1 = np.load(file_path_1)\n",
        "data_2 = np.load(file_path_2)"
      ],
      "metadata": {
        "id": "Ppq4UAGjEgBP"
      },
      "execution_count": 3,
      "outputs": []
    },
    {
      "cell_type": "code",
      "source": [
        "data_1.shape"
      ],
      "metadata": {
        "colab": {
          "base_uri": "https://localhost:8080/"
        },
        "id": "60dh9NFFE1gU",
        "outputId": "672d3901-2359-4d15-d48d-e93ce0b30921"
      },
      "execution_count": 4,
      "outputs": [
        {
          "output_type": "execute_result",
          "data": {
            "text/plain": [
              "(2132, 36, 36)"
            ]
          },
          "metadata": {},
          "execution_count": 4
        }
      ]
    },
    {
      "cell_type": "code",
      "source": [
        "data_2.shape"
      ],
      "metadata": {
        "colab": {
          "base_uri": "https://localhost:8080/"
        },
        "id": "yxc7TJJzE31-",
        "outputId": "22d523ee-c683-4efd-b2b7-925a5c8d12c9"
      },
      "execution_count": 5,
      "outputs": [
        {
          "output_type": "execute_result",
          "data": {
            "text/plain": [
              "(2132, 36, 36)"
            ]
          },
          "metadata": {},
          "execution_count": 5
        }
      ]
    },
    {
      "cell_type": "code",
      "source": [
        "data_1"
      ],
      "metadata": {
        "colab": {
          "base_uri": "https://localhost:8080/"
        },
        "id": "1Z_TqDC_E59v",
        "outputId": "f2313bac-ca66-45f2-b70c-b08d56f7cf75"
      },
      "execution_count": 6,
      "outputs": [
        {
          "output_type": "execute_result",
          "data": {
            "text/plain": [
              "array([[[0., 0., 0., ..., 0., 0., 0.],\n",
              "        [0., 0., 0., ..., 0., 0., 0.],\n",
              "        [0., 0., 0., ..., 0., 0., 0.],\n",
              "        ...,\n",
              "        [0., 0., 0., ..., 0., 0., 0.],\n",
              "        [0., 0., 0., ..., 0., 0., 0.],\n",
              "        [0., 0., 0., ..., 0., 0., 0.]],\n",
              "\n",
              "       [[0., 0., 0., ..., 0., 0., 0.],\n",
              "        [0., 0., 0., ..., 0., 0., 0.],\n",
              "        [0., 0., 0., ..., 0., 0., 0.],\n",
              "        ...,\n",
              "        [0., 0., 0., ..., 0., 0., 0.],\n",
              "        [0., 0., 0., ..., 0., 0., 0.],\n",
              "        [0., 0., 0., ..., 0., 0., 0.]],\n",
              "\n",
              "       [[0., 0., 0., ..., 0., 0., 0.],\n",
              "        [0., 0., 0., ..., 0., 0., 0.],\n",
              "        [0., 0., 0., ..., 0., 0., 0.],\n",
              "        ...,\n",
              "        [0., 0., 0., ..., 0., 0., 0.],\n",
              "        [0., 0., 0., ..., 0., 0., 0.],\n",
              "        [0., 0., 0., ..., 0., 0., 0.]],\n",
              "\n",
              "       ...,\n",
              "\n",
              "       [[0., 0., 0., ..., 0., 0., 0.],\n",
              "        [0., 0., 0., ..., 0., 0., 0.],\n",
              "        [0., 0., 0., ..., 0., 0., 0.],\n",
              "        ...,\n",
              "        [0., 0., 0., ..., 0., 0., 0.],\n",
              "        [0., 0., 0., ..., 0., 0., 0.],\n",
              "        [0., 0., 0., ..., 0., 0., 0.]],\n",
              "\n",
              "       [[0., 0., 0., ..., 0., 0., 0.],\n",
              "        [0., 0., 0., ..., 0., 0., 0.],\n",
              "        [0., 0., 0., ..., 0., 0., 0.],\n",
              "        ...,\n",
              "        [0., 0., 0., ..., 0., 0., 0.],\n",
              "        [0., 0., 0., ..., 0., 0., 0.],\n",
              "        [0., 0., 0., ..., 0., 0., 0.]],\n",
              "\n",
              "       [[0., 0., 0., ..., 0., 0., 0.],\n",
              "        [0., 0., 0., ..., 0., 0., 0.],\n",
              "        [0., 0., 0., ..., 0., 0., 0.],\n",
              "        ...,\n",
              "        [0., 0., 0., ..., 0., 0., 0.],\n",
              "        [0., 0., 0., ..., 0., 0., 0.],\n",
              "        [0., 0., 0., ..., 0., 0., 0.]]], dtype=float32)"
            ]
          },
          "metadata": {},
          "execution_count": 6
        }
      ]
    },
    {
      "cell_type": "code",
      "source": [
        "data_2"
      ],
      "metadata": {
        "colab": {
          "base_uri": "https://localhost:8080/"
        },
        "id": "pL348Bd9E8Vq",
        "outputId": "49c06a52-9495-4ad3-ca96-d3166881ebb7"
      },
      "execution_count": 7,
      "outputs": [
        {
          "output_type": "execute_result",
          "data": {
            "text/plain": [
              "array([[[0., 0., 0., ..., 0., 0., 0.],\n",
              "        [0., 0., 0., ..., 0., 0., 0.],\n",
              "        [0., 0., 0., ..., 0., 0., 0.],\n",
              "        ...,\n",
              "        [0., 0., 0., ..., 0., 0., 0.],\n",
              "        [0., 0., 0., ..., 0., 0., 0.],\n",
              "        [0., 0., 0., ..., 0., 0., 0.]],\n",
              "\n",
              "       [[0., 0., 0., ..., 0., 0., 0.],\n",
              "        [0., 0., 0., ..., 0., 0., 0.],\n",
              "        [0., 0., 0., ..., 0., 0., 0.],\n",
              "        ...,\n",
              "        [0., 0., 0., ..., 0., 0., 0.],\n",
              "        [0., 0., 0., ..., 0., 0., 0.],\n",
              "        [0., 0., 0., ..., 0., 0., 0.]],\n",
              "\n",
              "       [[0., 0., 0., ..., 0., 0., 0.],\n",
              "        [0., 0., 0., ..., 0., 0., 0.],\n",
              "        [0., 0., 0., ..., 0., 0., 0.],\n",
              "        ...,\n",
              "        [0., 0., 0., ..., 0., 0., 0.],\n",
              "        [0., 0., 0., ..., 0., 0., 0.],\n",
              "        [0., 0., 0., ..., 0., 0., 0.]],\n",
              "\n",
              "       ...,\n",
              "\n",
              "       [[0., 0., 0., ..., 0., 0., 0.],\n",
              "        [0., 0., 0., ..., 0., 0., 0.],\n",
              "        [0., 0., 0., ..., 0., 0., 0.],\n",
              "        ...,\n",
              "        [0., 0., 0., ..., 0., 0., 0.],\n",
              "        [0., 0., 0., ..., 0., 0., 0.],\n",
              "        [0., 0., 0., ..., 0., 0., 0.]],\n",
              "\n",
              "       [[0., 0., 0., ..., 0., 0., 0.],\n",
              "        [0., 0., 0., ..., 0., 0., 0.],\n",
              "        [0., 0., 0., ..., 0., 0., 0.],\n",
              "        ...,\n",
              "        [0., 0., 0., ..., 0., 0., 0.],\n",
              "        [0., 0., 0., ..., 0., 0., 0.],\n",
              "        [0., 0., 0., ..., 0., 0., 0.]],\n",
              "\n",
              "       [[0., 0., 0., ..., 0., 0., 0.],\n",
              "        [0., 0., 0., ..., 0., 0., 0.],\n",
              "        [0., 0., 0., ..., 0., 0., 0.],\n",
              "        ...,\n",
              "        [0., 0., 0., ..., 0., 0., 0.],\n",
              "        [0., 0., 0., ..., 0., 0., 0.],\n",
              "        [0., 0., 0., ..., 0., 0., 0.]]], dtype=float32)"
            ]
          },
          "metadata": {},
          "execution_count": 7
        }
      ]
    },
    {
      "cell_type": "code",
      "source": [
        "high_res_images = data_1[:1716, :, :]\n",
        "low_res_images=data_2[:1716,:,:]"
      ],
      "metadata": {
        "id": "Ame6FW9SE_RO"
      },
      "execution_count": 8,
      "outputs": []
    },
    {
      "cell_type": "code",
      "source": [
        "scaler = StandardScaler()\n",
        "low_res_images = scaler.fit_transform(low_res_images.reshape(-1, 1)).reshape(low_res_images.shape)\n",
        "high_res_images = scaler.transform(high_res_images.reshape(-1, 1)).reshape(high_res_images.shape)\n"
      ],
      "metadata": {
        "id": "SeLOqGN5FMZ7"
      },
      "execution_count": 9,
      "outputs": []
    },
    {
      "cell_type": "code",
      "source": [
        "X_train, X_temp, y_train, y_temp = train_test_split(low_res_images, high_res_images, test_size=0.3, random_state=42)\n",
        "X_val, X_test, y_val, y_test = train_test_split(X_temp, y_temp, test_size=0.5, random_state=42)"
      ],
      "metadata": {
        "id": "7htYtbZaFQAX"
      },
      "execution_count": 10,
      "outputs": []
    },
    {
      "cell_type": "code",
      "source": [
        "def srdrn_block(x):\n",
        "    # First convolutional layer\n",
        "    x = Conv2D(64, (3, 3), padding='same', activation='relu')(x)\n",
        "\n",
        "    # Recursive layers (adjust the number of recursive blocks as needed)\n",
        "    for _ in range(4):  # Experiment with the number of recursive blocks\n",
        "        residual = x\n",
        "        x = Conv2D(64, (3, 3), padding='same', activation='relu')(x)\n",
        "        x = Conv2D(64, (3, 3), padding='same', activation='relu')(x)\n",
        "        x = Add()([residual, x])  # Residual connection\n",
        "\n",
        "    # Last convolutional layer\n",
        "    x = Conv2D(64, (3, 3), padding='same', activation='relu')(x)\n",
        "\n",
        "    return x\n",
        "\n",
        "# Input layer\n",
        "input_layer = keras.layers.Input(shape=(36, 36, 1))\n",
        "\n",
        "# Initial convolutional layer\n",
        "x = Conv2D(64, (3, 3), padding='same', activation='relu')(input_layer)\n",
        "\n",
        "# SRDRN blocks\n",
        "for _ in range(8):  # Experiment with the number of SRDRN blocks\n",
        "    x = srdrn_block(x)\n",
        "\n",
        "# Output layer\n",
        "output_layer = Conv2D(1, (3, 3), padding='same', activation='linear')(x)"
      ],
      "metadata": {
        "id": "2SCF13bsFTnT"
      },
      "execution_count": 15,
      "outputs": []
    },
    {
      "cell_type": "code",
      "source": [
        "# Create the SRDRN model\n",
        "srdrn_model = Model(inputs=input_layer, outputs=output_layer)\n",
        "\n",
        "# Compile the model\n",
        "srdrn_model.compile(optimizer='adam', loss='mean_squared_error', metrics=['mean_absolute_error'])\n",
        "\n",
        "# Define early stopping and model checkpointing callbacks\n",
        "early_stopping = keras.callbacks.EarlyStopping(monitor='val_loss', patience=10)\n",
        "model_checkpoint = keras.callbacks.ModelCheckpoint('srdrn_model.h5', save_best_only=True)\n"
      ],
      "metadata": {
        "id": "bAtVcubfF4Re"
      },
      "execution_count": 18,
      "outputs": []
    },
    {
      "cell_type": "code",
      "source": [
        "history = srdrn_model.fit(X_train, y_train, validation_data=(X_val, y_val),\n",
        "                          epochs=100, batch_size=32, callbacks=[early_stopping, model_checkpoint])"
      ],
      "metadata": {
        "colab": {
          "base_uri": "https://localhost:8080/"
        },
        "id": "PyWtWofOGSPm",
        "outputId": "b025eeb2-6781-420f-da98-b630cd20b924"
      },
      "execution_count": 19,
      "outputs": [
        {
          "output_type": "stream",
          "name": "stdout",
          "text": [
            "Epoch 1/100\n",
            "38/38 [==============================] - 49s 255ms/step - loss: 10.7236 - mean_absolute_error: 1.2240 - val_loss: 1.6992 - val_mean_absolute_error: 0.8454\n",
            "Epoch 2/100\n",
            "38/38 [==============================] - 8s 214ms/step - loss: 1.6016 - mean_absolute_error: 0.8762 - val_loss: 1.4151 - val_mean_absolute_error: 1.0088\n",
            "Epoch 3/100\n",
            "38/38 [==============================] - 8s 209ms/step - loss: 1.4378 - mean_absolute_error: 0.8157 - val_loss: 1.7267 - val_mean_absolute_error: 0.8308\n",
            "Epoch 4/100\n",
            "38/38 [==============================] - 8s 209ms/step - loss: 1.6187 - mean_absolute_error: 0.8929 - val_loss: 2.3333 - val_mean_absolute_error: 0.8187\n",
            "Epoch 5/100\n",
            "38/38 [==============================] - 8s 218ms/step - loss: 1.5972 - mean_absolute_error: 0.9375 - val_loss: 0.9375 - val_mean_absolute_error: 0.7884\n",
            "Epoch 6/100\n",
            "38/38 [==============================] - 8s 212ms/step - loss: 1.4909 - mean_absolute_error: 0.7731 - val_loss: 3.3985 - val_mean_absolute_error: 1.3937\n",
            "Epoch 7/100\n",
            "38/38 [==============================] - 8s 220ms/step - loss: 1.1780 - mean_absolute_error: 0.8335 - val_loss: 0.6175 - val_mean_absolute_error: 0.4744\n",
            "Epoch 8/100\n",
            "38/38 [==============================] - 9s 237ms/step - loss: 0.5295 - mean_absolute_error: 0.3966 - val_loss: 0.4164 - val_mean_absolute_error: 0.3166\n",
            "Epoch 9/100\n",
            "38/38 [==============================] - 9s 234ms/step - loss: 0.3966 - mean_absolute_error: 0.2988 - val_loss: 0.3501 - val_mean_absolute_error: 0.2732\n",
            "Epoch 10/100\n",
            "38/38 [==============================] - 9s 227ms/step - loss: 0.3496 - mean_absolute_error: 0.2691 - val_loss: 0.2995 - val_mean_absolute_error: 0.2419\n",
            "Epoch 11/100\n",
            "38/38 [==============================] - 9s 228ms/step - loss: 0.2738 - mean_absolute_error: 0.2388 - val_loss: 0.2393 - val_mean_absolute_error: 0.2280\n",
            "Epoch 12/100\n",
            "38/38 [==============================] - 9s 232ms/step - loss: 0.2277 - mean_absolute_error: 0.2229 - val_loss: 0.2243 - val_mean_absolute_error: 0.2579\n",
            "Epoch 13/100\n",
            "38/38 [==============================] - 9s 227ms/step - loss: 0.1984 - mean_absolute_error: 0.2112 - val_loss: 0.1734 - val_mean_absolute_error: 0.2027\n",
            "Epoch 14/100\n",
            "38/38 [==============================] - 9s 230ms/step - loss: 0.1858 - mean_absolute_error: 0.2065 - val_loss: 0.1544 - val_mean_absolute_error: 0.1853\n",
            "Epoch 15/100\n",
            "38/38 [==============================] - 9s 230ms/step - loss: 0.1392 - mean_absolute_error: 0.1840 - val_loss: 0.1477 - val_mean_absolute_error: 0.1911\n",
            "Epoch 16/100\n",
            "38/38 [==============================] - 9s 229ms/step - loss: 0.1148 - mean_absolute_error: 0.1711 - val_loss: 0.0954 - val_mean_absolute_error: 0.1507\n",
            "Epoch 17/100\n",
            "38/38 [==============================] - 8s 215ms/step - loss: 0.1960 - mean_absolute_error: 0.2203 - val_loss: 0.1378 - val_mean_absolute_error: 0.1955\n",
            "Epoch 18/100\n",
            "38/38 [==============================] - 9s 225ms/step - loss: 0.1084 - mean_absolute_error: 0.1623 - val_loss: 0.0845 - val_mean_absolute_error: 0.1438\n",
            "Epoch 19/100\n",
            "38/38 [==============================] - 8s 217ms/step - loss: 0.0823 - mean_absolute_error: 0.1420 - val_loss: 0.0955 - val_mean_absolute_error: 0.1601\n",
            "Epoch 20/100\n",
            "38/38 [==============================] - 9s 233ms/step - loss: 0.0790 - mean_absolute_error: 0.1392 - val_loss: 0.0767 - val_mean_absolute_error: 0.1599\n",
            "Epoch 21/100\n",
            "38/38 [==============================] - 9s 229ms/step - loss: 0.0783 - mean_absolute_error: 0.1398 - val_loss: 0.0709 - val_mean_absolute_error: 0.1304\n",
            "Epoch 22/100\n",
            "38/38 [==============================] - 8s 216ms/step - loss: 0.0699 - mean_absolute_error: 0.1276 - val_loss: 0.0849 - val_mean_absolute_error: 0.1502\n",
            "Epoch 23/100\n",
            "38/38 [==============================] - 9s 234ms/step - loss: 0.0727 - mean_absolute_error: 0.1345 - val_loss: 0.0635 - val_mean_absolute_error: 0.1175\n",
            "Epoch 24/100\n",
            "38/38 [==============================] - 8s 218ms/step - loss: 0.0665 - mean_absolute_error: 0.1231 - val_loss: 0.0678 - val_mean_absolute_error: 0.1203\n",
            "Epoch 25/100\n",
            "38/38 [==============================] - 8s 215ms/step - loss: 0.0683 - mean_absolute_error: 0.1266 - val_loss: 0.0780 - val_mean_absolute_error: 0.1359\n",
            "Epoch 26/100\n",
            "38/38 [==============================] - 8s 214ms/step - loss: 0.1922 - mean_absolute_error: 0.1999 - val_loss: 0.2439 - val_mean_absolute_error: 0.2321\n",
            "Epoch 27/100\n",
            "38/38 [==============================] - 8s 218ms/step - loss: 0.1659 - mean_absolute_error: 0.1953 - val_loss: 0.1068 - val_mean_absolute_error: 0.1572\n",
            "Epoch 28/100\n",
            "38/38 [==============================] - 8s 217ms/step - loss: 0.1102 - mean_absolute_error: 0.1637 - val_loss: 0.0923 - val_mean_absolute_error: 0.1693\n",
            "Epoch 29/100\n",
            "38/38 [==============================] - 9s 227ms/step - loss: 0.0757 - mean_absolute_error: 0.1374 - val_loss: 0.0625 - val_mean_absolute_error: 0.1201\n",
            "Epoch 30/100\n",
            "38/38 [==============================] - 9s 227ms/step - loss: 0.0644 - mean_absolute_error: 0.1232 - val_loss: 0.0606 - val_mean_absolute_error: 0.1185\n",
            "Epoch 31/100\n",
            "38/38 [==============================] - 9s 231ms/step - loss: 0.0618 - mean_absolute_error: 0.1179 - val_loss: 0.0585 - val_mean_absolute_error: 0.1128\n",
            "Epoch 32/100\n",
            "38/38 [==============================] - 8s 215ms/step - loss: 0.0626 - mean_absolute_error: 0.1202 - val_loss: 0.0603 - val_mean_absolute_error: 0.1122\n",
            "Epoch 33/100\n",
            "38/38 [==============================] - 9s 226ms/step - loss: 0.0640 - mean_absolute_error: 0.1228 - val_loss: 0.0583 - val_mean_absolute_error: 0.1108\n",
            "Epoch 34/100\n",
            "38/38 [==============================] - 8s 217ms/step - loss: 0.0726 - mean_absolute_error: 0.1328 - val_loss: 0.0640 - val_mean_absolute_error: 0.1236\n",
            "Epoch 35/100\n",
            "38/38 [==============================] - 9s 228ms/step - loss: 0.0624 - mean_absolute_error: 0.1194 - val_loss: 0.0560 - val_mean_absolute_error: 0.1039\n",
            "Epoch 36/100\n",
            "38/38 [==============================] - 8s 216ms/step - loss: 0.0583 - mean_absolute_error: 0.1120 - val_loss: 0.0561 - val_mean_absolute_error: 0.1112\n",
            "Epoch 37/100\n",
            "38/38 [==============================] - 8s 216ms/step - loss: 0.0592 - mean_absolute_error: 0.1122 - val_loss: 0.0672 - val_mean_absolute_error: 0.1209\n",
            "Epoch 38/100\n",
            "38/38 [==============================] - 8s 218ms/step - loss: 0.0839 - mean_absolute_error: 0.1387 - val_loss: 0.0971 - val_mean_absolute_error: 0.1519\n",
            "Epoch 39/100\n",
            "38/38 [==============================] - 8s 220ms/step - loss: 0.0672 - mean_absolute_error: 0.1237 - val_loss: 0.0625 - val_mean_absolute_error: 0.1167\n",
            "Epoch 40/100\n",
            "38/38 [==============================] - 8s 222ms/step - loss: 0.0657 - mean_absolute_error: 0.1196 - val_loss: 0.0570 - val_mean_absolute_error: 0.1076\n",
            "Epoch 41/100\n",
            "38/38 [==============================] - 8s 218ms/step - loss: 0.0676 - mean_absolute_error: 0.1240 - val_loss: 0.0567 - val_mean_absolute_error: 0.1058\n",
            "Epoch 42/100\n",
            "38/38 [==============================] - 8s 218ms/step - loss: 0.0600 - mean_absolute_error: 0.1165 - val_loss: 0.0573 - val_mean_absolute_error: 0.1074\n",
            "Epoch 43/100\n",
            "38/38 [==============================] - 9s 230ms/step - loss: 0.0573 - mean_absolute_error: 0.1077 - val_loss: 0.0558 - val_mean_absolute_error: 0.1203\n",
            "Epoch 44/100\n",
            "38/38 [==============================] - 8s 216ms/step - loss: 0.0572 - mean_absolute_error: 0.1083 - val_loss: 0.0560 - val_mean_absolute_error: 0.1090\n",
            "Epoch 45/100\n",
            "38/38 [==============================] - 9s 227ms/step - loss: 0.0577 - mean_absolute_error: 0.1088 - val_loss: 0.0553 - val_mean_absolute_error: 0.1059\n",
            "Epoch 46/100\n",
            "38/38 [==============================] - 8s 215ms/step - loss: 0.0578 - mean_absolute_error: 0.1088 - val_loss: 0.0559 - val_mean_absolute_error: 0.1050\n",
            "Epoch 47/100\n",
            "38/38 [==============================] - 8s 214ms/step - loss: 0.0567 - mean_absolute_error: 0.1042 - val_loss: 0.0587 - val_mean_absolute_error: 0.1062\n",
            "Epoch 48/100\n",
            "38/38 [==============================] - 8s 217ms/step - loss: 0.0570 - mean_absolute_error: 0.1072 - val_loss: 0.0609 - val_mean_absolute_error: 0.1150\n",
            "Epoch 49/100\n",
            "38/38 [==============================] - 9s 233ms/step - loss: 0.0588 - mean_absolute_error: 0.1061 - val_loss: 0.0536 - val_mean_absolute_error: 0.0995\n",
            "Epoch 50/100\n",
            "38/38 [==============================] - 8s 215ms/step - loss: 0.0573 - mean_absolute_error: 0.1058 - val_loss: 0.0594 - val_mean_absolute_error: 0.1125\n",
            "Epoch 51/100\n",
            "38/38 [==============================] - 8s 215ms/step - loss: 0.0580 - mean_absolute_error: 0.1060 - val_loss: 0.0636 - val_mean_absolute_error: 0.1172\n",
            "Epoch 52/100\n",
            "38/38 [==============================] - 8s 215ms/step - loss: 0.0606 - mean_absolute_error: 0.1088 - val_loss: 0.0605 - val_mean_absolute_error: 0.1066\n",
            "Epoch 53/100\n",
            "38/38 [==============================] - 8s 218ms/step - loss: 0.1280 - mean_absolute_error: 0.1691 - val_loss: 0.0751 - val_mean_absolute_error: 0.1372\n",
            "Epoch 54/100\n",
            "38/38 [==============================] - 8s 218ms/step - loss: 0.0640 - mean_absolute_error: 0.1219 - val_loss: 0.0681 - val_mean_absolute_error: 0.1148\n",
            "Epoch 55/100\n",
            "38/38 [==============================] - 8s 214ms/step - loss: 0.0576 - mean_absolute_error: 0.1061 - val_loss: 0.0582 - val_mean_absolute_error: 0.1047\n",
            "Epoch 56/100\n",
            "38/38 [==============================] - 8s 217ms/step - loss: 0.0571 - mean_absolute_error: 0.1043 - val_loss: 0.0549 - val_mean_absolute_error: 0.1033\n",
            "Epoch 57/100\n",
            "38/38 [==============================] - 8s 217ms/step - loss: 0.0551 - mean_absolute_error: 0.1014 - val_loss: 0.0545 - val_mean_absolute_error: 0.1035\n",
            "Epoch 58/100\n",
            "38/38 [==============================] - 8s 217ms/step - loss: 0.0570 - mean_absolute_error: 0.1039 - val_loss: 0.0584 - val_mean_absolute_error: 0.1081\n",
            "Epoch 59/100\n",
            "38/38 [==============================] - 8s 215ms/step - loss: 0.0570 - mean_absolute_error: 0.1035 - val_loss: 0.0543 - val_mean_absolute_error: 0.0988\n"
          ]
        }
      ]
    },
    {
      "cell_type": "code",
      "source": [
        "best_model = keras.models.load_model('srdrn_model.h5')"
      ],
      "metadata": {
        "id": "xDytQfTJGkdy"
      },
      "execution_count": 20,
      "outputs": []
    },
    {
      "cell_type": "code",
      "source": [
        "test_loss, test_mae = best_model.evaluate(X_test, y_test)"
      ],
      "metadata": {
        "colab": {
          "base_uri": "https://localhost:8080/"
        },
        "id": "XzRefcIjG9Vx",
        "outputId": "db25bccb-03a3-4418-aa63-c7df4ab1fc11"
      },
      "execution_count": 21,
      "outputs": [
        {
          "output_type": "stream",
          "name": "stdout",
          "text": [
            "9/9 [==============================] - 1s 74ms/step - loss: 0.0571 - mean_absolute_error: 0.1023\n"
          ]
        }
      ]
    },
    {
      "cell_type": "code",
      "source": [
        "bias_corrected_data = best_model.predict(low_res_images)"
      ],
      "metadata": {
        "colab": {
          "base_uri": "https://localhost:8080/"
        },
        "id": "wZuYNOsSG_Se",
        "outputId": "6f18931b-e6eb-41d4-b8e2-1f5a320922ee"
      },
      "execution_count": 22,
      "outputs": [
        {
          "output_type": "stream",
          "name": "stdout",
          "text": [
            "54/54 [==============================] - 5s 71ms/step\n"
          ]
        }
      ]
    },
    {
      "cell_type": "code",
      "source": [
        "bias_corrected_data = bias_corrected_data.reshape(-1, 36, 36)"
      ],
      "metadata": {
        "id": "PW8XLZIYJKyV"
      },
      "execution_count": 23,
      "outputs": []
    },
    {
      "cell_type": "code",
      "source": [
        "GCM_data_real=high_res_images.reshape(-1,36,36)"
      ],
      "metadata": {
        "id": "Dx7AxRXtJQG1"
      },
      "execution_count": 24,
      "outputs": []
    },
    {
      "cell_type": "code",
      "source": [
        "differences=bias_corrected_data-GCM_data_real"
      ],
      "metadata": {
        "id": "7BY_74_QJWJp"
      },
      "execution_count": 25,
      "outputs": []
    },
    {
      "cell_type": "code",
      "source": [
        "mean_differences=np.mean(differences,axis=(1,2))\n",
        "global_mean_difference=np.mean(differences)\n",
        "print(global_mean_difference)"
      ],
      "metadata": {
        "colab": {
          "base_uri": "https://localhost:8080/"
        },
        "id": "yTLD4EHtJYft",
        "outputId": "69c4c38f-256e-4d35-dd63-8514abb117e1"
      },
      "execution_count": 26,
      "outputs": [
        {
          "output_type": "stream",
          "name": "stdout",
          "text": [
            "-0.008110182\n"
          ]
        }
      ]
    },
    {
      "cell_type": "code",
      "source": [],
      "metadata": {
        "id": "-SNUP30wJatF"
      },
      "execution_count": null,
      "outputs": []
    }
  ]
}